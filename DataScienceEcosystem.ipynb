{
 "cells": [
  {
   "cell_type": "markdown",
   "id": "b082a2d8-ae02-492e-a337-495b1d808392",
   "metadata": {},
   "source": [
    "# Data Science Tools and Ecosystems #"
   ]
  },
  {
   "cell_type": "markdown",
   "id": "920f7d0a-fdb3-45d4-bd20-121fb6e755c3",
   "metadata": {},
   "source": [
    "This notebook provides a summary of Data Science Tools and Ecosystem. "
   ]
  },
  {
   "cell_type": "markdown",
   "id": "b93fad60-3c11-49eb-ac77-797a3d7826b5",
   "metadata": {},
   "source": [
    "Popular languages frequently used by Data Scientists include:\n",
    "\n",
    "1. Python\n",
    "2. R\n",
    "3. SQL\n",
    "4. Java"
   ]
  },
  {
   "cell_type": "markdown",
   "id": "aafd47e0-bc98-4060-a8e6-7f2407227d0f",
   "metadata": {},
   "source": [
    "Some of the commonly used libraries used by Data Scientists include:\n",
    "<ol>\n",
    "<li>NumPy</li>\n",
    "<li>Pandas</li>\n",
    "<li>Scikit-learn</li>\n",
    "<li>SciPy</li>\n",
    "<li>Matplotlib</li>\n",
    "</ol>"
   ]
  },
  {
   "cell_type": "markdown",
   "id": "e83519e3-31f6-4d09-b855-5754782b6cd4",
   "metadata": {},
   "source": [
    "| Data Science Tools |\n",
    "| --------- |\n",
    "| Jupyter Notebooks |\n",
    "| RStudio |\n",
    "| PyCharm |"
   ]
  },
  {
   "cell_type": "markdown",
   "id": "c208e92d-2b21-4ff0-80e1-1d32b73fd0e5",
   "metadata": {},
   "source": [
    "### Below are a few examples of evaluating arithmetic expressions in Python ###"
   ]
  },
  {
   "cell_type": "code",
   "execution_count": null,
   "id": "5250bc1c-8ec6-49c7-874c-cc7fed80e094",
   "metadata": {},
   "outputs": [],
   "source": [
    "# This is a simple arithmetic expression to multiply then add integers\n",
    "\n",
    "(3*4)+5"
   ]
  },
  {
   "cell_type": "code",
   "execution_count": null,
   "id": "be77e199-0cb1-4cea-8676-fe4da5430993",
   "metadata": {},
   "outputs": [],
   "source": [
    "# This will convert 200 minutes to hours by diving by 60\n",
    "\n",
    "minutes = 200\n",
    "hours = 60\n",
    "result = minutes / hours\n",
    "print(result)"
   ]
  },
  {
   "cell_type": "markdown",
   "id": "62507b6b-bcc4-44aa-b3bf-701ecbe767be",
   "metadata": {},
   "source": [
    "**Objectives:** \n",
    "\n",
    "<ul>\n",
    "<li>List popular languages for Data Science.</li>\n",
    "<li>List commonly used libraries for Data Analysis.</li>\n",
    "<li>Table of Data Science Tools.</li>\n",
    "<li>Examples of arithmetic expression in Python.</li>\n",
    "</ul>"
   ]
  },
  {
   "cell_type": "markdown",
   "id": "18df7c50-524b-4ad5-ab9e-631564283e86",
   "metadata": {},
   "source": [
    "## Autor ##\n",
    "Krisztina Horváth-Tóth"
   ]
  }
 ],
 "metadata": {
  "kernelspec": {
   "display_name": "Python 3 (ipykernel)",
   "language": "python",
   "name": "python3"
  },
  "language_info": {
   "codemirror_mode": {
    "name": "ipython",
    "version": 3
   },
   "file_extension": ".py",
   "mimetype": "text/x-python",
   "name": "python",
   "nbconvert_exporter": "python",
   "pygments_lexer": "ipython3",
   "version": "3.12.7"
  }
 },
 "nbformat": 4,
 "nbformat_minor": 5
}
